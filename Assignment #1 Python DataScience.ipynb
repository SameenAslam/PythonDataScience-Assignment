{
 "cells": [
  {
   "cell_type": "code",
   "execution_count": 1,
   "id": "4ba3af16",
   "metadata": {},
   "outputs": [
    {
     "name": "stdout",
     "output_type": "stream",
     "text": [
      "Twinkle, twinkle, little star,\n",
      "\tHow I wonder what you are!\n",
      "\t\tUp above the world so high,\n",
      "\t\tLike a diamond in the sky.\n",
      "Twinkle, twinkle, little star,\n",
      "\tHow I wonder what you are!\n"
     ]
    }
   ],
   "source": [
    "#1.\n",
    "print(\"Twinkle, twinkle, little star,\");\n",
    "print(\"\\tHow I wonder what you are!\");\n",
    "print(\"\\t\\tUp above the world so high,\");\n",
    "print(\"\\t\\tLike a diamond in the sky.\");\n",
    "print(\"Twinkle, twinkle, little star,\");\n",
    "print(\"\\tHow I wonder what you are!\");\n"
   ]
  },
  {
   "cell_type": "code",
   "execution_count": 2,
   "id": "e041b5da",
   "metadata": {},
   "outputs": [
    {
     "name": "stdout",
     "output_type": "stream",
     "text": [
      "Python version\n",
      "3.8.8 (default, Apr 13 2021, 15:08:03) [MSC v.1916 64 bit (AMD64)]\n"
     ]
    }
   ],
   "source": [
    "#2.\n",
    "import sys\n",
    "print(\"Python version\")\n",
    "print (sys.version)"
   ]
  },
  {
   "cell_type": "code",
   "execution_count": 3,
   "id": "6fd1a7b4",
   "metadata": {},
   "outputs": [
    {
     "name": "stdout",
     "output_type": "stream",
     "text": [
      "Current date and time : \n",
      "23:09:30 31-12-2021\n"
     ]
    }
   ],
   "source": [
    "#3.\n",
    "import datetime\n",
    "now = datetime.datetime.now()\n",
    "print (\"Current date and time : \")\n",
    "print (now.strftime(\"%H:%M:%S %d-%m-%Y\"))"
   ]
  },
  {
   "cell_type": "code",
   "execution_count": 4,
   "id": "a05c7909",
   "metadata": {},
   "outputs": [
    {
     "name": "stdout",
     "output_type": "stream",
     "text": [
      "Enter the radius of the circle : 32\n",
      "The area of the circle is: 3216.990877275948\n"
     ]
    }
   ],
   "source": [
    "#4.\n",
    "from math import pi\n",
    "rad = float(input (\"Enter the radius of the circle : \"))\n",
    "print (\"The area of the circle is: \" + str(pi * rad**2))\n"
   ]
  },
  {
   "cell_type": "code",
   "execution_count": 5,
   "id": "bd631589",
   "metadata": {},
   "outputs": [
    {
     "name": "stdout",
     "output_type": "stream",
     "text": [
      "Enter First Name : Sameen \n",
      "Enter Last Name : Aslam\n",
      "Aslam Sameen \n"
     ]
    }
   ],
   "source": [
    "#5.\n",
    "frtname = input(\"Enter First Name : \")\n",
    "lstname = input(\"Enter Last Name : \")\n",
    "print (lstname + \" \" + frtname);"
   ]
  },
  {
   "cell_type": "code",
   "execution_count": 6,
   "id": "0a1bcfe0",
   "metadata": {},
   "outputs": [
    {
     "name": "stdout",
     "output_type": "stream",
     "text": [
      "Enter first number: 10\n",
      "Enter second number: 20\n",
      "The addition of two numbers is: 30\n"
     ]
    }
   ],
   "source": [
    "#6.\n",
    "num1 = input(\"Enter first number: \");\n",
    "num2 = input(\"Enter second number: \");\n",
    "sum = int(num1) + int(num2)\n",
    "print(\"The addition of two numbers is: \" + str(sum));\n"
   ]
  },
  {
   "cell_type": "code",
   "execution_count": null,
   "id": "42f8e34f",
   "metadata": {},
   "outputs": [],
   "source": []
  }
 ],
 "metadata": {
  "kernelspec": {
   "display_name": "Python 3",
   "language": "python",
   "name": "python3"
  },
  "language_info": {
   "codemirror_mode": {
    "name": "ipython",
    "version": 3
   },
   "file_extension": ".py",
   "mimetype": "text/x-python",
   "name": "python",
   "nbconvert_exporter": "python",
   "pygments_lexer": "ipython3",
   "version": "3.8.8"
  }
 },
 "nbformat": 4,
 "nbformat_minor": 5
}
